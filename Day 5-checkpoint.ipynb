{
 "cells": [
  {
   "cell_type": "code",
   "execution_count": 3,
   "metadata": {},
   "outputs": [
    {
     "name": "stdout",
     "output_type": "stream",
     "text": [
      "True\n",
      "True\n"
     ]
    }
   ],
   "source": [
    "#membership operators -->in , not in\n",
    "str1=\"abc xyz\"\n",
    "print('xyz' in str1)\n",
    "print('w' not in str1)"
   ]
  },
  {
   "cell_type": "code",
   "execution_count": 4,
   "metadata": {},
   "outputs": [
    {
     "data": {
      "text/plain": [
       "False"
      ]
     },
     "execution_count": 4,
     "metadata": {},
     "output_type": "execute_result"
    }
   ],
   "source": [
    "#identity operators -->is,is not\n",
    "x=10\n",
    "y=20\n",
    "x is y"
   ]
  },
  {
   "cell_type": "code",
   "execution_count": 5,
   "metadata": {},
   "outputs": [
    {
     "name": "stdout",
     "output_type": "stream",
     "text": [
      "140724294951600 140724294951920\n"
     ]
    }
   ],
   "source": [
    "print(id(x),id(y))"
   ]
  },
  {
   "cell_type": "code",
   "execution_count": 8,
   "metadata": {},
   "outputs": [
    {
     "name": "stdout",
     "output_type": "stream",
     "text": [
      "x<Y\n"
     ]
    }
   ],
   "source": [
    "x=10\n",
    "y=20\n",
    "print(\"x<Y\") if x<y else print(\"x>y\") "
   ]
  },
  {
   "cell_type": "code",
   "execution_count": 11,
   "metadata": {},
   "outputs": [
    {
     "name": "stdout",
     "output_type": "stream",
     "text": [
      "x<y\n",
      "hello\n",
      "hi\n"
     ]
    }
   ],
   "source": [
    "if x<y:\n",
    "    print(\"x<y\")\n",
    "    if 12<78:\n",
    "        print(\"hello\")\n",
    "        print(\"hi\")\n",
    "    else:\n",
    "        print(\"hai\")\n",
    "        \n",
    "else:\n",
    "    print(\"x>y\")"
   ]
  },
  {
   "cell_type": "code",
   "execution_count": 19,
   "metadata": {},
   "outputs": [
    {
     "name": "stdout",
     "output_type": "stream",
     "text": [
      "enter a number2\n",
      "positive\n"
     ]
    }
   ],
   "source": [
    "#accept a number as input and print whether given number is positive or negative or zero\n",
    "num=int(input(\"enter a number\"))\n",
    "if num>0:\n",
    "       print(\"positive\")\n",
    "elif num<0:\n",
    "    print(\"negative\")\n",
    "else:\n",
    "    print(\"zero\")\n",
    "\n",
    "    \n",
    "    "
   ]
  },
  {
   "cell_type": "code",
   "execution_count": 23,
   "metadata": {},
   "outputs": [
    {
     "name": "stdout",
     "output_type": "stream",
     "text": [
      "enter a number12\n",
      "not a required number\n"
     ]
    }
   ],
   "source": [
    "#divisible 2 and 3 but not by 4\n",
    "n=int(input(\"enter a number\"))\n",
    "if n%2==0 and n%3==0 and n%4!=0:\n",
    "    print(n)\n",
    "else:\n",
    "    print(\"not a required number\")"
   ]
  },
  {
   "cell_type": "code",
   "execution_count": 34,
   "metadata": {},
   "outputs": [
    {
     "name": "stdout",
     "output_type": "stream",
     "text": [
      "enter marks of subject 190\n",
      "enter marks of subject 290\n",
      "enter marks of subject 390\n",
      "A\n"
     ]
    }
   ],
   "source": [
    "#accept 3 marks of the student he gets if  he gets >30 in all susbects -->average  ,<30 in any of the subjects -->fail\n",
    "#avg>75 -->'A'\n",
    "#avg>65 and avg<75 -->'B'\n",
    "#avg>50 and avg<65 -->'C'\n",
    "#avg>30 and avg<50 -->'D'\n",
    "#else--> fail\n",
    "sub1=int(input(\"enter marks of subject 1\"))\n",
    "sub2=int(input(\"enter marks of subject 2\"))\n",
    "sub3=int(input(\"enter marks of subject 3\"))\n",
    "avg=0\n",
    "if sub1>30 and sub2>30 and sub3>30:\n",
    "    avg=(sub1+sub2+sub3)//3\n",
    "    if avg>75:\n",
    "        print('A')\n",
    "    elif avg>65 and avg<75:\n",
    "        print('B')\n",
    "    elif avg>50 and avg<65:\n",
    "        print('C')\n",
    "    elif avg>30 and avg<50:\n",
    "        print('D')\n",
    "    #else:\n",
    "            #print('fail')\n",
    "else:\n",
    "    print('fail')\n",
    "    \n",
    "    "
   ]
  },
  {
   "cell_type": "code",
   "execution_count": 35,
   "metadata": {},
   "outputs": [
    {
     "name": "stdout",
     "output_type": "stream",
     "text": [
      "28\n",
      "1 2 3 4 5 6 7 8 9 10 11 12 13 14 15 16 17 18 19 20 21 22 23 24 25 26 27 28 "
     ]
    }
   ],
   "source": [
    "#while loop\n",
    "i=1\n",
    "n=int(input())\n",
    "while i<=n:\n",
    "    print(i,end =\" \")\n",
    "    i+=1"
   ]
  },
  {
   "cell_type": "code",
   "execution_count": 2,
   "metadata": {},
   "outputs": [
    {
     "name": "stdout",
     "output_type": "stream",
     "text": [
      "28\n",
      "406\n"
     ]
    }
   ],
   "source": [
    "#loops\n",
    "i =1\n",
    "sum =0\n",
    "n = int(input())\n",
    "while i<=n:\n",
    "    sum += i\n",
    "    i +=1\n",
    "print(sum)"
   ]
  },
  {
   "cell_type": "code",
   "execution_count": 4,
   "metadata": {},
   "outputs": [
    {
     "name": "stdout",
     "output_type": "stream",
     "text": [
      "10\n",
      "30\n"
     ]
    }
   ],
   "source": [
    "#sum of even numbers\n",
    "i =1\n",
    "n=int(input())\n",
    "sum=0\n",
    "while i<=n:\n",
    "    if i%2==0:\n",
    "        sum+=i\n",
    "    i+=1\n",
    "print(sum)"
   ]
  },
  {
   "cell_type": "code",
   "execution_count": 9,
   "metadata": {},
   "outputs": [
    {
     "name": "stdout",
     "output_type": "stream",
     "text": [
      "123\n",
      "321\n"
     ]
    }
   ],
   "source": [
    "#reverse order\n",
    "n=int(input())\n",
    "rev=0\n",
    "while n!=0:\n",
    "    rev=(rev*10) +(n%10)\n",
    "    n=n//10\n",
    "print(rev)"
   ]
  },
  {
   "cell_type": "code",
   "execution_count": 10,
   "metadata": {},
   "outputs": [
    {
     "name": "stdout",
     "output_type": "stream",
     "text": [
      "1568\n",
      "20\n"
     ]
    }
   ],
   "source": [
    "#sum of digits in a given number\n",
    "n=int(input())\n",
    "sum=0\n",
    "while n!=0:\n",
    "    sum=sum+n%10\n",
    "    n=n//10\n",
    "print(sum)"
   ]
  },
  {
   "cell_type": "code",
   "execution_count": 16,
   "metadata": {},
   "outputs": [
    {
     "name": "stdout",
     "output_type": "stream",
     "text": [
      "9\n"
     ]
    }
   ],
   "source": [
    "#sum of digits in a given string\n",
    "str1=\"application1233\"\n",
    "i=0\n",
    "sum=0\n",
    "while i<len(str1):\n",
    "    if str1[i].isdigit():\n",
    "        sum+= int(str1[i])\n",
    "    i+=1\n",
    "print(sum)\n",
    "        \n",
    "\n",
    "\n"
   ]
  },
  {
   "cell_type": "code",
   "execution_count": 18,
   "metadata": {},
   "outputs": [
    {
     "name": "stdout",
     "output_type": "stream",
     "text": [
      "9\n",
      "1\n",
      "2\n",
      "3\n",
      "4\n",
      "5\n",
      "6\n",
      "7\n",
      "8\n"
     ]
    }
   ],
   "source": [
    "#print n natural numbers using for loop\n",
    "n=int(input())\n",
    "for i in range(1,n):\n",
    "    print(i)\n",
    "\n"
   ]
  },
  {
   "cell_type": "code",
   "execution_count": null,
   "metadata": {},
   "outputs": [],
   "source": [
    "#input:\n",
    "    s1=\"\""
   ]
  }
 ],
 "metadata": {
  "kernelspec": {
   "display_name": "Python 3",
   "language": "python",
   "name": "python3"
  },
  "language_info": {
   "codemirror_mode": {
    "name": "ipython",
    "version": 3
   },
   "file_extension": ".py",
   "mimetype": "text/x-python",
   "name": "python",
   "nbconvert_exporter": "python",
   "pygments_lexer": "ipython3",
   "version": "3.7.4"
  }
 },
 "nbformat": 4,
 "nbformat_minor": 2
}
