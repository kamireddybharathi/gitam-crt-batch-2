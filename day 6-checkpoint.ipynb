{
 "cells": [
  {
   "cell_type": "markdown",
   "metadata": {},
   "source": [
    "# collection types:\n",
    "###  1. List\n",
    "###  2.Tuple\n",
    "###  3. Dictionary\n"
   ]
  },
  {
   "cell_type": "code",
   "execution_count": 1,
   "metadata": {},
   "outputs": [
    {
     "name": "stdout",
     "output_type": "stream",
     "text": [
      "['name', 23, True, 23, 1400, 400]\n",
      "['name', 23, True, 23, 1400, 400, 34.3, 'real']\n",
      "['name', 23, True, 'march', 23, 1400, 400, 34.3, 'real']\n",
      "['name', 23, True, 'march', 23, 1400, 400, 34.3, 'real', 21, '5anu', '20bharathi', 34567]\n"
     ]
    }
   ],
   "source": [
    "samplelist=[\"name\",23,True,23,1400,400]\n",
    "print(samplelist)\n",
    "samplelist.append(34.3)# to add\n",
    "samplelist.append(\"real\")\n",
    "print(samplelist)\n",
    "samplelist.insert(3,\"march\")\n",
    "print(samplelist)\n",
    "samplelist.extend([21,\"5anu\",\"20bharathi\",34567])# to insert multiple iterable values into the list\n",
    "print(samplelist)"
   ]
  },
  {
   "cell_type": "code",
   "execution_count": 2,
   "metadata": {},
   "outputs": [
    {
     "name": "stdout",
     "output_type": "stream",
     "text": [
      "['name', 23, True, 23, 1400]\n",
      "1400\n",
      "['name', True, 23]\n"
     ]
    }
   ],
   "source": [
    "#removing elements -->pop(),remove()\n",
    "samplelist=[\"name\",23,True,23,1400,400]\n",
    "del samplelist[-1]\n",
    "print(samplelist)\n",
    "r=samplelist.pop()\n",
    "print(r)\n",
    "samplelist.remove(23)\n",
    "print(samplelist)"
   ]
  },
  {
   "cell_type": "code",
   "execution_count": 3,
   "metadata": {},
   "outputs": [
    {
     "name": "stdout",
     "output_type": "stream",
     "text": [
      "[23, True, 'name']\n",
      "['name', True, 23]\n"
     ]
    }
   ],
   "source": [
    "samplelist.reverse()\n",
    "print(samplelist)\n",
    "samplelist.reverse()\n",
    "print(samplelist)"
   ]
  },
  {
   "cell_type": "code",
   "execution_count": 10,
   "metadata": {},
   "outputs": [
    {
     "name": "stdout",
     "output_type": "stream",
     "text": [
      "[1, 200, 4200, 27500]\n",
      "[27500, 4200, 200, 1]\n"
     ]
    }
   ],
   "source": [
    "list1= [1,200,4200,27500]\n",
    "list1.sort()\n",
    "print(list1)\n",
    "list1.sort(reverse=True)\n",
    "print(list1)"
   ]
  },
  {
   "cell_type": "code",
   "execution_count": 7,
   "metadata": {},
   "outputs": [
    {
     "data": {
      "text/plain": [
       "[27500, 4200, 200, 1]"
      ]
     },
     "execution_count": 7,
     "metadata": {},
     "output_type": "execute_result"
    }
   ],
   "source": [
    "list1"
   ]
  },
  {
   "cell_type": "code",
   "execution_count": 11,
   "metadata": {},
   "outputs": [
    {
     "data": {
      "text/plain": [
       "[27500, 4200, 200, 1]"
      ]
     },
     "execution_count": 11,
     "metadata": {},
     "output_type": "execute_result"
    }
   ],
   "source": [
    "list2=list1\n",
    "list1"
   ]
  },
  {
   "cell_type": "markdown",
   "metadata": {},
   "source": [
    "## Accept three subject marks of the student at run time and store values in a list\n",
    "## return total marks of the student\n"
   ]
  },
  {
   "cell_type": "code",
   "execution_count": 1,
   "metadata": {},
   "outputs": [
    {
     "name": "stdout",
     "output_type": "stream",
     "text": [
      "enter no of subjects6\n",
      "2\n",
      "3\n",
      "5\n",
      "6\n",
      "9\n",
      "10\n",
      "sum 35\n"
     ]
    }
   ],
   "source": [
    "n=int(input(\"enter no of subjects\"))\n",
    "marks =[]\n",
    "for i in range(n):\n",
    "    marks.append( int(input()))\n",
    "print(\"sum\",sum(marks))\n",
    "    "
   ]
  },
  {
   "cell_type": "code",
   "execution_count": 5,
   "metadata": {},
   "outputs": [
    {
     "name": "stdout",
     "output_type": "stream",
     "text": [
      "90\n",
      "30\n"
     ]
    }
   ],
   "source": [
    "#finding maximum number\n",
    "list1=[10,90,30,25]\n",
    "list1.sort()\n",
    "print(max(list1))\n",
    "print(list1[-2])"
   ]
  },
  {
   "cell_type": "code",
   "execution_count": 7,
   "metadata": {},
   "outputs": [
    {
     "name": "stdout",
     "output_type": "stream",
     "text": [
      "[23, 45, 33, 67, 34]\n",
      "[23, 45, 33, 67, 34, 90011545] (23, 45, 33, 67, 34, 90011545)\n"
     ]
    }
   ],
   "source": [
    "#tuple-->indexed,ordered,allows duplicate values,immutable\n",
    "#use()\n",
    "t1=(23,45,33,67,34)\n",
    "l1=list(t1)\n",
    "print(l1)\n",
    "l1.append(90011545)\n",
    "t1=tuple(l1)\n",
    "print(l1,t1)de"
   ]
  },
  {
   "cell_type": "code",
   "execution_count": 10,
   "metadata": {},
   "outputs": [
    {
     "data": {
      "text/plain": [
       "{'name': 'bharathi', 'rollno': 20, 'course': 'cse', 'address': 'hyd'}"
      ]
     },
     "execution_count": 10,
     "metadata": {},
     "output_type": "execute_result"
    }
   ],
   "source": [
    "# dict1={key1:value1,key2:value2,....}\n",
    "#rules for keys: 1.keys should be unique,\n",
    "#2.keys should be immutable(numbers,strings,tuple)\n",
    "s1={\"name\":\"bharathi\",\"rollno\":20,\"course\":\"cse\"}\n",
    "#add new entry\n",
    "s1[\"address\"]=\"hyd\"\n",
    "s1"
   ]
  },
  {
   "cell_type": "code",
   "execution_count": 11,
   "metadata": {},
   "outputs": [
    {
     "data": {
      "text/plain": [
       "{'name': 'bharathi', 'rollno': 20, 'address': 'hyd'}"
      ]
     },
     "execution_count": 11,
     "metadata": {},
     "output_type": "execute_result"
    }
   ],
   "source": [
    "#delete the dictionary\n",
    "del s1[\"course\"]\n",
    "s1"
   ]
  },
  {
   "cell_type": "code",
   "execution_count": 12,
   "metadata": {},
   "outputs": [
    {
     "data": {
      "text/plain": [
       "{'name': 'bharathi', 'rollno': 20, 'address': 'bangalore'}"
      ]
     },
     "execution_count": 12,
     "metadata": {},
     "output_type": "execute_result"
    }
   ],
   "source": [
    "#update the dictionary\n",
    "s1[\"address\"]=\"bangalore\"\n",
    "s1"
   ]
  },
  {
   "cell_type": "code",
   "execution_count": null,
   "metadata": {},
   "outputs": [],
   "source": []
  }
 ],
 "metadata": {
  "kernelspec": {
   "display_name": "Python 3",
   "language": "python",
   "name": "python3"
  },
  "language_info": {
   "codemirror_mode": {
    "name": "ipython",
    "version": 3
   },
   "file_extension": ".py",
   "mimetype": "text/x-python",
   "name": "python",
   "nbconvert_exporter": "python",
   "pygments_lexer": "ipython3",
   "version": "3.7.4"
  }
 },
 "nbformat": 4,
 "nbformat_minor": 2
}
